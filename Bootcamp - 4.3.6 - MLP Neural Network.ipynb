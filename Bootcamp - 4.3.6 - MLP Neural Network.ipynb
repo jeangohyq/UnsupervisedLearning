{
 "cells": [
  {
   "cell_type": "code",
   "execution_count": 54,
   "metadata": {},
   "outputs": [],
   "source": [
    "import numpy as np\n",
    "import pandas as pd\n",
    "import matplotlib.pyplot as plt\n",
    "import seaborn as sns\n",
    "%matplotlib inline"
   ]
  },
  {
   "cell_type": "code",
   "execution_count": 55,
   "metadata": {},
   "outputs": [],
   "source": [
    "df = pd.read_csv('diabetic_data.csv')"
   ]
  },
  {
   "cell_type": "code",
   "execution_count": 56,
   "metadata": {},
   "outputs": [],
   "source": [
    "remove = ['encounter_id','patient_nbr','weight','payer_code','medical_specialty']\n",
    "df = df.drop(remove,1)"
   ]
  },
  {
   "cell_type": "code",
   "execution_count": 57,
   "metadata": {},
   "outputs": [
    {
     "name": "stdout",
     "output_type": "stream",
     "text": [
      "count        45\n",
      "unique        1\n",
      "top       False\n",
      "freq         45\n",
      "dtype: object\n"
     ]
    }
   ],
   "source": [
    "print(df.isnull().any().describe())"
   ]
  },
  {
   "cell_type": "code",
   "execution_count": 58,
   "metadata": {},
   "outputs": [],
   "source": [
    "df['diag_1'] = df['diag_1'].str.replace('?','')\n",
    "df['diag_2'] = df['diag_2'].str.replace('?','')\n",
    "df['diag_3'] = df['diag_3'].str.replace('?','')\n",
    "df['race'] = df['race'].str.replace('?','')"
   ]
  },
  {
   "cell_type": "code",
   "execution_count": 59,
   "metadata": {},
   "outputs": [],
   "source": [
    "df['age'] = df['age'].str.replace('[','')\n",
    "df['age'] = df['age'].str.replace(')','')"
   ]
  },
  {
   "cell_type": "code",
   "execution_count": 60,
   "metadata": {},
   "outputs": [],
   "source": [
    "df['Age'] = pd.Series(df.age.str.extract(\n",
    "    '([0-9]{2})', expand=False))[:-1]"
   ]
  },
  {
   "cell_type": "code",
   "execution_count": 61,
   "metadata": {},
   "outputs": [],
   "source": [
    "df['A1Cresult'] = df['A1Cresult'].str.replace('>','')\n",
    "df['max_glu_serum'] = df['max_glu_serum'].str.replace('>','')"
   ]
  },
  {
   "cell_type": "code",
   "execution_count": 62,
   "metadata": {},
   "outputs": [],
   "source": [
    "df['diag_1'] = df['diag_1'].str.replace('V','')\n",
    "df['diag_2'] = df['diag_2'].str.replace('V','')\n",
    "df['diag_3'] = df['diag_3'].str.replace('V','')\n",
    "df['diag_1'] = df['diag_1'].str.replace('E','')\n",
    "df['diag_2'] = df['diag_2'].str.replace('E','')\n",
    "df['diag_3'] = df['diag_3'].str.replace('E','')"
   ]
  },
  {
   "cell_type": "code",
   "execution_count": 63,
   "metadata": {},
   "outputs": [],
   "source": [
    "df['diag_1'] = pd.to_numeric(df['diag_1'])\n",
    "df['diag_2'] = pd.to_numeric(df['diag_2'])\n",
    "df['diag_3'] = pd.to_numeric(df['diag_3'])"
   ]
  },
  {
   "cell_type": "code",
   "execution_count": 64,
   "metadata": {},
   "outputs": [],
   "source": [
    "#Replace null values with mean\n",
    "df['diag_1'].fillna((df['diag_1'].mean()), inplace=True)\n",
    "df['diag_2'].fillna((df['diag_2'].mean()), inplace=True)\n",
    "df['diag_3'].fillna((df['diag_3'].mean()), inplace=True)"
   ]
  },
  {
   "cell_type": "code",
   "execution_count": 65,
   "metadata": {},
   "outputs": [
    {
     "data": {
      "text/plain": [
       "<matplotlib.axes._subplots.AxesSubplot at 0x12a248d68>"
      ]
     },
     "execution_count": 65,
     "metadata": {},
     "output_type": "execute_result"
    },
    {
     "data": {
      "image/png": "[encoded data removed]",
      "text/plain": [
       "<matplotlib.figure.Figure at 0x105ace128>"
      ]
     },
     "metadata": {},
     "output_type": "display_data"
    }
   ],
   "source": [
    "#Creating a correlation matrix.\n",
    "corrmat = df.corr()\n",
    "#Find correlation between the different variables.\n",
    "f, ax = plt.subplots()\n",
    "sns.heatmap(corrmat,square=True)"
   ]
  },
  {
   "cell_type": "code",
   "execution_count": 66,
   "metadata": {},
   "outputs": [],
   "source": [
    "#Get dummies\n",
    "df['gender'] = np.where(df['gender']=='Female', 1, 0)\n",
    "df['readmitted'] = np.where(df['readmitted']=='>30', 1, 0)\n",
    "\n",
    "#races = pd.get_dummies(df.race)\n",
    "\n",
    "# Final column drops and NA drop.\n",
    "#X = df.drop(['diabetesMed','age'], 1)\n",
    "X = df.drop(['number_diagnoses','age'], 1)\n",
    "\n",
    "#Concat with other variables\n",
    "X = pd.get_dummies(X, sparse=True)\n",
    "#X = pd.concat([X, races], axis=1)\n",
    "\n",
    "#Y = df.diabetesMed\n",
    "Y = df.number_diagnoses"
   ]
  },
  {
   "cell_type": "code",
   "execution_count": 67,
   "metadata": {},
   "outputs": [],
   "source": [
    "from sklearn.model_selection import train_test_split, cross_val_score, GridSearchCV\n",
    "from sklearn.model_selection import train_test_split\n",
    "#Divide into training and test sets.\n",
    "X_train, X_test, Y_train, Y_test = train_test_split(\n",
    "    X,\n",
    "    Y,\n",
    "    test_size=0.4,\n",
    "    random_state=42)"
   ]
  },
  {
   "cell_type": "markdown",
   "metadata": {},
   "source": [
    "from sklearn.preprocessing import StandardScaler\n",
    "scaler = StandardScaler()\n",
    "scaler.fit(X_train)\n",
    "X_train = scaler.transform(X_train)\n",
    "X_test = scaler.transform(X_test)"
   ]
  },
  {
   "cell_type": "code",
   "execution_count": 68,
   "metadata": {},
   "outputs": [
    {
     "name": "stdout",
     "output_type": "stream",
     "text": [
      "(61059, 113) (61059,)\n",
      "(40707, 113) (40707,)\n"
     ]
    }
   ],
   "source": [
    "print(X_train.shape, Y_train.shape)\n",
    "print(X_test.shape, Y_test.shape)"
   ]
  },
  {
   "cell_type": "code",
   "execution_count": 49,
   "metadata": {},
   "outputs": [
    {
     "data": {
      "text/plain": [
       "MLPClassifier(activation='relu', alpha=0.0001, batch_size=100, beta_1=0.9,\n",
       "       beta_2=0.999, early_stopping=False, epsilon=1e-08,\n",
       "       hidden_layer_sizes=(500,), learning_rate='constant',\n",
       "       learning_rate_init=0.001, max_iter=200, momentum=0.9,\n",
       "       nesterovs_momentum=True, power_t=0.5, random_state=None,\n",
       "       shuffle=True, solver='adam', tol=0.0001, validation_fraction=0.1,\n",
       "       verbose=False, warm_start=False)"
      ]
     },
     "execution_count": 49,
     "metadata": {},
     "output_type": "execute_result"
    }
   ],
   "source": [
    "from sklearn.neural_network import MLPClassifier #Multi Layer Perceptron\n",
    "\n",
    "#Establish and fit the model, with the same number of neurons in each perceptron layer.\n",
    "mlp = MLPClassifier(hidden_layer_sizes=(500,), batch_size=100)\n",
    "mlp.fit(X_train, Y_train)"
   ]
  },
  {
   "cell_type": "code",
   "execution_count": 50,
   "metadata": {},
   "outputs": [
    {
     "data": {
      "text/plain": [
       "0.50713636475299084"
      ]
     },
     "execution_count": 50,
     "metadata": {},
     "output_type": "execute_result"
    }
   ],
   "source": [
    "mlp.score(X_test,Y_test)"
   ]
  },
  {
   "cell_type": "code",
   "execution_count": null,
   "metadata": {},
   "outputs": [],
   "source": [
    "from sklearn.model_selection import cross_val_score\n",
    "cross_val_score(mlp, X, Y, cv=10)"
   ]
  },
  {
   "cell_type": "code",
   "execution_count": 33,
   "metadata": {},
   "outputs": [
    {
     "name": "stdout",
     "output_type": "stream",
     "text": [
      "Accuracy of Random Forest Classifier: 0.48530\n"
     ]
    },
    {
     "name": "stderr",
     "output_type": "stream",
     "text": [
      "/Library/Frameworks/Python.framework/Versions/3.6/lib/python3.6/site-packages/sklearn/model_selection/_split.py:605: Warning: The least populated class in y has only 7 members, which is too few. The minimum number of members in any class cannot be less than n_splits=10.\n",
      "  % (min_groups, self.n_splits)), Warning)\n"
     ]
    },
    {
     "name": "stdout",
     "output_type": "stream",
     "text": [
      "[ 0.43303221  0.41416225  0.47151837  0.50368406  0.51454117  0.51365959\n",
      "  0.4865343   0.4735031   0.46730902  0.47221949]\n",
      "\n",
      "Mean cross validation score is: 0.475016354066\n"
     ]
    }
   ],
   "source": [
    "from sklearn import ensemble\n",
    "from sklearn.model_selection import cross_val_score\n",
    "rfc = ensemble.RandomForestClassifier()\n",
    "rfc.fit(X_train, Y_train)\n",
    "\n",
    "print('Accuracy of Random Forest Classifier: {:.5f}'.format(rfc.score(X_test, Y_test)))\n",
    "\n",
    "cvScores = cross_val_score(rfc, X, Y, cv=10) \n",
    "print(cvScores)\n",
    "print ('\\nMean cross validation score is: ' + str(np.mean(cvScores)))\n"
   ]
  },
  {
   "cell_type": "code",
   "execution_count": 69,
   "metadata": {},
   "outputs": [
    {
     "name": "stdout",
     "output_type": "stream",
     "text": [
      "Accuracy of Gradient Boosting Classifier on Test: 0.54492\n"
     ]
    }
   ],
   "source": [
    "#Gradient Boosting Classifier\n",
    "from sklearn.ensemble import GradientBoostingClassifier\n",
    "from sklearn.grid_search import GridSearchCV\n",
    "from sklearn.model_selection import GridSearchCV\n",
    "from sklearn import ensemble\n",
    "\n",
    "param_grid = {'n_estimators': 100,\n",
    "         'max_depth':3,\n",
    "         'loss': 'deviance',\n",
    "         'subsample': 0.8,\n",
    "         'max_features': 'auto',\n",
    "         'learning_rate':0.05,\n",
    "         'min_samples_leaf':3}\n",
    "\n",
    "clf = ensemble.GradientBoostingClassifier(**param_grid, random_state=0)\n",
    "clf.fit(X_train, Y_train)\n",
    "\n",
    "print('Accuracy of Gradient Boosting Classifier on Test: {:.5f}'.format(clf.score(X_test, Y_test)))"
   ]
  },
  {
   "cell_type": "code",
   "execution_count": null,
   "metadata": {},
   "outputs": [],
   "source": []
  },
  {
   "cell_type": "code",
   "execution_count": null,
   "metadata": {},
   "outputs": [],
   "source": [
    "clf_scores = cross_val_score(clf, X, Y, cv=10)\n",
    "print(clf_scores)\n",
    "print ('\\nMean cross validation score is: ' + str(np.mean(clf_scores)))"
   ]
  },
  {
   "cell_type": "markdown",
   "metadata": {},
   "source": [
    "Using binary target variable(DiabetesMed), able to achieve 0.99995 accuracy with MLP classifier.\n",
    "MLP Classifier takes a longer time to run, but with higher accuracy vs Random Forest or Boosted Classifier.\n",
    "Random Forest and Boosted Classifier work extremely well with binary classification.\n",
    "\n",
    "Assuming target variable is a range(number of diagnoses), accuracy was 0.507 with MLP classifier.\n",
    "Boosted Classifier achieved the best mean cross validation score at 0.545, vs RF @ 0.485."
   ]
  }
 ],
 "metadata": {
  "kernelspec": {
   "display_name": "Python 3",
   "language": "python",
   "name": "python3"
  },
  "language_info": {
   "codemirror_mode": {
    "name": "ipython",
    "version": 3
   },
   "file_extension": ".py",
   "mimetype": "text/x-python",
   "name": "python",
   "nbconvert_exporter": "python",
   "pygments_lexer": "ipython3",
   "version": "3.6.3"
  }
 },
 "nbformat": 4,
 "nbformat_minor": 2
}
